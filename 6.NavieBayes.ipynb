{
 "cells": [
  {
   "cell_type": "code",
   "execution_count": 2,
   "id": "de50ea6c-b3c7-4f4f-bd0a-db4986b5a5d3",
   "metadata": {},
   "outputs": [],
   "source": [
    "import pandas as pd\n",
    "import numpy as ny\n",
    "import matplotlib.pyplot as plt"
   ]
  },
  {
   "cell_type": "code",
   "execution_count": 4,
   "id": "3d6b8042-e027-48bf-a3d3-c16a073302e8",
   "metadata": {},
   "outputs": [],
   "source": [
    "dataset=pd.read_csv(\"Social_Network_Ads.csv\")"
   ]
  },
  {
   "cell_type": "code",
   "execution_count": 6,
   "id": "6b3bcd4b-beed-477e-a664-d9f3c7797dd3",
   "metadata": {},
   "outputs": [],
   "source": [
    "dataset=pd.get_dummies(dataset,drop_first=True,dtype=int)"
   ]
  },
  {
   "cell_type": "code",
   "execution_count": 8,
   "id": "b64a1dd8-b1c8-43a5-97d2-0c06ff725b3b",
   "metadata": {},
   "outputs": [],
   "source": [
    "dataset=dataset.drop(\"User ID\",axis=1)"
   ]
  },
  {
   "cell_type": "code",
   "execution_count": 10,
   "id": "e365b10f-321c-4548-bd32-a523b3de178d",
   "metadata": {},
   "outputs": [
    {
     "data": {
      "text/plain": [
       "Purchased\n",
       "0    257\n",
       "1    143\n",
       "Name: count, dtype: int64"
      ]
     },
     "execution_count": 10,
     "metadata": {},
     "output_type": "execute_result"
    }
   ],
   "source": [
    "dataset[\"Purchased\"].value_counts()"
   ]
  },
  {
   "cell_type": "code",
   "execution_count": 26,
   "id": "0bcdb2f4-9e6d-4e46-bfb5-fde1f28f8967",
   "metadata": {},
   "outputs": [],
   "source": [
    "#split input and otput\n",
    "indep=dataset[[\"Age\",\"EstimatedSalary\",\"Gender_Male\"]]\n",
    "depen=dataset[\"Purchased\"]"
   ]
  },
  {
   "cell_type": "code",
   "execution_count": 27,
   "id": "beac5716-a2fc-419d-ad2b-d62a6ca2ff85",
   "metadata": {},
   "outputs": [],
   "source": [
    "from sklearn.model_selection import train_test_split\n",
    "x_train,x_test,y_train,y_test = train_test_split(indep, depen)"
   ]
  },
  {
   "cell_type": "code",
   "execution_count": 60,
   "id": "deb7941b-645a-40bb-8c9e-cffcdb63a90c",
   "metadata": {},
   "outputs": [],
   "source": [
    "def MultiNB():\n",
    "    from sklearn.naive_bayes import MultinomialNB\n",
    "    classifier = MultinomialNB()\n",
    "    classifier.fit(x_train, y_train)\n",
    "    y_pred = classifier.predict(x_test)\n",
    "    from sklearn.metrics import confusion_matrix\n",
    "    cm = confusion_matrix(y_test, y_pred)\n",
    "    from sklearn.metrics import classification_report\n",
    "    clf_report = classification_report(y_test, y_pred)              \n",
    "    return clf_report\n",
    "    print(cm)"
   ]
  },
  {
   "cell_type": "code",
   "execution_count": 62,
   "id": "bfe49f34-decf-4ff9-9dd6-d19b90026693",
   "metadata": {},
   "outputs": [],
   "source": [
    "def BernoulliNB():\n",
    "    from sklearn.naive_bayes import BernoulliNB\n",
    "    classifier = BernoulliNB()\n",
    "    classifier.fit(x_train, y_train)\n",
    "    y_pred = classifier.predict(x_test)\n",
    "    from sklearn.metrics import confusion_matrix\n",
    "    cm = confusion_matrix(y_test, y_pred)\n",
    "    from sklearn.metrics import classification_report\n",
    "    clf_report = classification_report(y_test, y_pred)              \n",
    "    print(clf_report)\n",
    "    print(cm)"
   ]
  },
  {
   "cell_type": "code",
   "execution_count": 64,
   "id": "6c92955c-2b5f-48bd-a187-7eced45afed7",
   "metadata": {},
   "outputs": [],
   "source": [
    "def Cate():\n",
    "    from sklearn.naive_bayes import CategoricalNB\n",
    "    classifier =CategoricalNB()\n",
    "    classifier.fit(x_train, y_train)\n",
    "    y_pred = classifier.predict(x_test)\n",
    "    from sklearn.metrics import confusion_matrix\n",
    "    cm = confusion_matrix(y_test, y_pred)\n",
    "    from sklearn.metrics import classification_report\n",
    "    clf_report = classification_report(y_test, y_pred)              \n",
    "    print(clf_report)\n",
    "    print(cm)\n"
   ]
  },
  {
   "cell_type": "code",
   "execution_count": 66,
   "id": "c6dc4d85-90d6-49b5-8f15-5fb68725e840",
   "metadata": {},
   "outputs": [],
   "source": [
    "def ComplementNB():\n",
    "    from sklearn.naive_bayes import ComplementNB\n",
    "    classifier =ComplementNB()\n",
    "    classifier.fit(x_train, y_train)\n",
    "    y_pred = classifier.predict(x_test)\n",
    "    from sklearn.metrics import confusion_matrix\n",
    "    cm = confusion_matrix(y_test, y_pred)\n",
    "    from sklearn.metrics import classification_report\n",
    "    clf_report = classification_report(y_test, y_pred)              \n",
    "    print(clf_report)\n",
    "    print(cm)"
   ]
  },
  {
   "cell_type": "code",
   "execution_count": 76,
   "id": "d2d977cc-351c-4e70-b8cf-acf9047ded23",
   "metadata": {},
   "outputs": [
    {
     "name": "stdout",
     "output_type": "stream",
     "text": [
      "              precision    recall  f1-score   support\n",
      "\n",
      "           0       0.71      0.82      0.76        66\n",
      "           1       0.50      0.35      0.41        34\n",
      "\n",
      "    accuracy                           0.66       100\n",
      "   macro avg       0.61      0.59      0.59       100\n",
      "weighted avg       0.64      0.66      0.64       100\n",
      "\n"
     ]
    }
   ],
   "source": [
    "Multinb=MultiNB()\n",
    "print(Multinb)\n"
   ]
  },
  {
   "cell_type": "code",
   "execution_count": 80,
   "id": "82e29cc7-c4da-42a8-94ed-df6ea8666703",
   "metadata": {},
   "outputs": [
    {
     "name": "stdout",
     "output_type": "stream",
     "text": [
      "              precision    recall  f1-score   support\n",
      "\n",
      "           0       0.66      1.00      0.80        66\n",
      "           1       0.00      0.00      0.00        34\n",
      "\n",
      "    accuracy                           0.66       100\n",
      "   macro avg       0.33      0.50      0.40       100\n",
      "weighted avg       0.44      0.66      0.52       100\n",
      "\n",
      "[[66  0]\n",
      " [34  0]]\n",
      "None\n"
     ]
    },
    {
     "name": "stderr",
     "output_type": "stream",
     "text": [
      "C:\\Users\\Lenovo\\anaconda3\\Lib\\site-packages\\sklearn\\metrics\\_classification.py:1531: UndefinedMetricWarning: Precision is ill-defined and being set to 0.0 in labels with no predicted samples. Use `zero_division` parameter to control this behavior.\n",
      "  _warn_prf(average, modifier, f\"{metric.capitalize()} is\", len(result))\n",
      "C:\\Users\\Lenovo\\anaconda3\\Lib\\site-packages\\sklearn\\metrics\\_classification.py:1531: UndefinedMetricWarning: Precision is ill-defined and being set to 0.0 in labels with no predicted samples. Use `zero_division` parameter to control this behavior.\n",
      "  _warn_prf(average, modifier, f\"{metric.capitalize()} is\", len(result))\n",
      "C:\\Users\\Lenovo\\anaconda3\\Lib\\site-packages\\sklearn\\metrics\\_classification.py:1531: UndefinedMetricWarning: Precision is ill-defined and being set to 0.0 in labels with no predicted samples. Use `zero_division` parameter to control this behavior.\n",
      "  _warn_prf(average, modifier, f\"{metric.capitalize()} is\", len(result))\n"
     ]
    }
   ],
   "source": [
    "berNB=BernoulliNB()\n",
    "print(berNB)"
   ]
  },
  {
   "cell_type": "code",
   "execution_count": null,
   "id": "bd9c4269-a590-449d-92a5-2b7d83ce6d40",
   "metadata": {},
   "outputs": [],
   "source": [
    "cat=Cate()"
   ]
  }
 ],
 "metadata": {
  "kernelspec": {
   "display_name": "Python [conda env:base] *",
   "language": "python",
   "name": "conda-base-py"
  },
  "language_info": {
   "codemirror_mode": {
    "name": "ipython",
    "version": 3
   },
   "file_extension": ".py",
   "mimetype": "text/x-python",
   "name": "python",
   "nbconvert_exporter": "python",
   "pygments_lexer": "ipython3",
   "version": "3.12.7"
  }
 },
 "nbformat": 4,
 "nbformat_minor": 5
}
